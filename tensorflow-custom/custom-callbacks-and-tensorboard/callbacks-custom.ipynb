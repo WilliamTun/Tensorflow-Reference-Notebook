{
 "cells": [
  {
   "cell_type": "code",
   "execution_count": 1,
   "metadata": {},
   "outputs": [],
   "source": [
    "import tensorflow as tf\n",
    "import numpy as np\n",
    "from tensorflow import keras\n",
    "import datetime"
   ]
  },
  {
   "cell_type": "code",
   "execution_count": 2,
   "metadata": {},
   "outputs": [],
   "source": [
    "x = np.array([-1.0, 0.0, 1.0, 2.0, 3.0, 4.0], dtype=float)\n",
    "y = np.array([-2.0, -1.0, 1.0, 3.0, 5.0, 7.0], dtype=float)"
   ]
  },
  {
   "cell_type": "code",
   "execution_count": 11,
   "metadata": {},
   "outputs": [],
   "source": [
    "x_val = np.array([-1.5, 0.1, 0.8, 1.9, 3.2, 4.3], dtype=float)\n",
    "y_val = np.array([-2.2, -1.2, 1.1, 3.1, 4.8, 6.9], dtype=float)"
   ]
  },
  {
   "cell_type": "code",
   "execution_count": 12,
   "metadata": {},
   "outputs": [],
   "source": [
    "class CustomCallback(tf.keras.callbacks.Callback):\n",
    "    '''\n",
    "    Custom Callback 1.\n",
    "    Call back to return time for beginning and end of training for each batch during training\n",
    "    '''\n",
    "    def on_train_batch_begin(self, batch, logs=None):\n",
    "        print('Training: batch {} begins at {}'.format(batch, datetime.datetime.now().time()))\n",
    "    \n",
    "    def on_train_batch_end(self, batch, logs=None):\n",
    "        print('Training: batch {} ends at {}'.format(batch, datetime.datetime.now().time()))"
   ]
  },
  {
   "cell_type": "code",
   "execution_count": 16,
   "metadata": {},
   "outputs": [],
   "source": [
    "class DetectOverfittingCallback(tf.keras.callbacks.Callback):\n",
    "    '''\n",
    "    Custom Callback 2.\n",
    "    Monitor ratio between validation and training loss\n",
    "    '''\n",
    "    def __init__(self, threshold):\n",
    "        super(DetectOverfittingCallback, self).__init__()\n",
    "        self.threshold = threshold \n",
    "    \n",
    "    def on_epoch_end(self, epoch, logs=None):\n",
    "        ratio = logs[\"val_loss\"] / logs[\"loss\"]\n",
    "        print(\"Epoch: {}, val/train loss ratio: {:.2f}\".format(epoch, ratio))\n",
    "        \n",
    "        if ratio > self.threshold:\n",
    "            print(\"Stop training!\")\n",
    "            self.model.stop_training = True"
   ]
  },
  {
   "cell_type": "code",
   "execution_count": 17,
   "metadata": {},
   "outputs": [],
   "source": [
    "# custom_callback = CustomCallback()\n",
    "custom_callback = DetectOverfittingCallback(threshold=1.3)"
   ]
  },
  {
   "cell_type": "code",
   "execution_count": 19,
   "metadata": {},
   "outputs": [
    {
     "name": "stdout",
     "output_type": "stream",
     "text": [
      "Epoch 1/100\n",
      "6/6 [==============================] - 0s 29ms/step - loss: 8.9824 - mae: 2.3893 - val_loss: 3.4306 - val_mae: 1.6105\n",
      "Epoch: 0, val/train loss ratio: 0.29\n",
      "Epoch 2/100\n",
      "6/6 [==============================] - 0s 9ms/step - loss: 5.5930 - mae: 1.9510 - val_loss: 1.0142 - val_mae: 0.8627\n",
      "Epoch: 1, val/train loss ratio: 0.33\n",
      "Epoch 3/100\n",
      "6/6 [==============================] - 0s 10ms/step - loss: 0.8727 - mae: 0.8446 - val_loss: 0.5312 - val_mae: 0.4979\n",
      "Epoch: 2, val/train loss ratio: 0.46\n",
      "Epoch 4/100\n",
      "6/6 [==============================] - 0s 14ms/step - loss: 0.6252 - mae: 0.7335 - val_loss: 0.4695 - val_mae: 0.4321\n",
      "Epoch: 3, val/train loss ratio: 0.68\n",
      "Epoch 5/100\n",
      "6/6 [==============================] - 0s 11ms/step - loss: 0.4948 - mae: 0.6525 - val_loss: 0.4569 - val_mae: 0.4138\n",
      "Epoch: 4, val/train loss ratio: 0.81\n",
      "Epoch 6/100\n",
      "6/6 [==============================] - 0s 9ms/step - loss: 0.6385 - mae: 0.7362 - val_loss: 0.4614 - val_mae: 0.4577\n",
      "Epoch: 5, val/train loss ratio: 0.96\n",
      "Epoch 7/100\n",
      "6/6 [==============================] - 0s 9ms/step - loss: 0.2996 - mae: 0.4439 - val_loss: 0.4423 - val_mae: 0.4645\n",
      "Epoch: 6, val/train loss ratio: 1.03\n",
      "Epoch 8/100\n",
      "6/6 [==============================] - 0s 8ms/step - loss: 0.4692 - mae: 0.6150 - val_loss: 0.4294 - val_mae: 0.4739\n",
      "Epoch: 7, val/train loss ratio: 1.10\n",
      "Epoch 9/100\n",
      "6/6 [==============================] - 0s 8ms/step - loss: 0.2614 - mae: 0.4446 - val_loss: 0.3947 - val_mae: 0.4447\n",
      "Epoch: 8, val/train loss ratio: 1.13\n",
      "Epoch 10/100\n",
      "6/6 [==============================] - 0s 9ms/step - loss: 0.3259 - mae: 0.5276 - val_loss: 0.3834 - val_mae: 0.4470\n",
      "Epoch: 9, val/train loss ratio: 1.19\n",
      "Epoch 11/100\n",
      "6/6 [==============================] - 0s 10ms/step - loss: 0.3215 - mae: 0.4731 - val_loss: 0.3888 - val_mae: 0.4692\n",
      "Epoch: 10, val/train loss ratio: 1.33\n",
      "Stop training!\n"
     ]
    },
    {
     "data": {
      "text/plain": [
       "<tensorflow.python.keras.callbacks.History at 0x1340c9e80>"
      ]
     },
     "execution_count": 19,
     "metadata": {},
     "output_type": "execute_result"
    }
   ],
   "source": [
    "model = tf.keras.Sequential([keras.layers.Dense(units=1, input_shape=[1])])\n",
    "model.compile(optimizer='sgd', loss=\"mse\", metrics=\"mae\") \n",
    "model.fit(x, y, validation_data=(x_val, y_val), batch_size=1, epochs=100, callbacks=[custom_callback])"
   ]
  }
 ],
 "metadata": {
  "kernelspec": {
   "display_name": "Python 3",
   "language": "python",
   "name": "python3"
  },
  "language_info": {
   "codemirror_mode": {
    "name": "ipython",
    "version": 3
   },
   "file_extension": ".py",
   "mimetype": "text/x-python",
   "name": "python",
   "nbconvert_exporter": "python",
   "pygments_lexer": "ipython3",
   "version": "3.8.2"
  }
 },
 "nbformat": 4,
 "nbformat_minor": 4
}
