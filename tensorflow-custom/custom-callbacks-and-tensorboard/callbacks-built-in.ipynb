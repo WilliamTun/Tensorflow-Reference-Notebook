{
 "cells": [
  {
   "cell_type": "code",
   "execution_count": 1,
   "metadata": {},
   "outputs": [],
   "source": [
    "import tensorflow as tf\n",
    "import numpy as np\n",
    "from tensorflow import keras"
   ]
  },
  {
   "cell_type": "code",
   "execution_count": 2,
   "metadata": {},
   "outputs": [],
   "source": [
    "x = np.array([-1.0, 0.0, 1.0, 2.0, 3.0, 4.0], dtype=float)\n",
    "y = np.array([-2.0, -1.0, 1.0, 3.0, 5.0, 7.0], dtype=float)"
   ]
  },
  {
   "cell_type": "markdown",
   "metadata": {},
   "source": [
    "# Built in Callbacks\n",
    "- ModelCheckpoint\n",
    "- EarlyStopping\n",
    "- CSVLogger"
   ]
  },
  {
   "cell_type": "code",
   "execution_count": 7,
   "metadata": {},
   "outputs": [],
   "source": [
    "# save a single model\n",
    "model_checkpoint_callback = tf.keras.callbacks.ModelCheckpoint(\"model.h5\", \n",
    "                                                               save_weights_only=True, \n",
    "                                                                monitor='val_loss',\n",
    "                                                               verbose=1)"
   ]
  },
  {
   "cell_type": "code",
   "execution_count": 26,
   "metadata": {},
   "outputs": [],
   "source": [
    "# saves weights of each epoch along with loss value to 2 decimal places - and name each shard accordingly\n",
    "model_checkpoint_callback = tf.keras.callbacks.ModelCheckpoint(\"sharded-save/weights.{epoch:02d}-{loss:.2f}.h5\",\n",
    "                                                               verbose=1)"
   ]
  },
  {
   "cell_type": "code",
   "execution_count": 20,
   "metadata": {},
   "outputs": [],
   "source": [
    "# in-built call back to stop training when loss no longer improves.\n",
    "# patience is set to 3 epochs. If Loss does not improve after 3 epochs, stop training.\n",
    "model_checkpoint_callback = tf.keras.callbacks.EarlyStopping(patience=3,\n",
    "                                                             monitor=\"loss\")"
   ]
  },
  {
   "cell_type": "code",
   "execution_count": 28,
   "metadata": {},
   "outputs": [],
   "source": [
    "# in-built call back to save training data to csv\n",
    "model_checkpoint_callback = tf.keras.callbacks.CSVLogger(\"training.csv\")"
   ]
  },
  {
   "cell_type": "markdown",
   "metadata": {},
   "source": [
    "# Fit Model with Callback"
   ]
  },
  {
   "cell_type": "code",
   "execution_count": 29,
   "metadata": {},
   "outputs": [
    {
     "name": "stdout",
     "output_type": "stream",
     "text": [
      "Epoch 1/10\n",
      "1/1 [==============================] - 0s 153ms/step - loss: 6.3189\n",
      "Epoch 2/10\n",
      "1/1 [==============================] - 0s 2ms/step - loss: 5.0830\n",
      "Epoch 3/10\n",
      "1/1 [==============================] - 0s 5ms/step - loss: 4.1088\n",
      "Epoch 4/10\n",
      "1/1 [==============================] - 0s 5ms/step - loss: 3.3404\n",
      "Epoch 5/10\n",
      "1/1 [==============================] - 0s 7ms/step - loss: 2.7340\n",
      "Epoch 6/10\n",
      "1/1 [==============================] - 0s 3ms/step - loss: 2.2550\n",
      "Epoch 7/10\n",
      "1/1 [==============================] - 0s 6ms/step - loss: 1.8765\n",
      "Epoch 8/10\n",
      "1/1 [==============================] - 0s 3ms/step - loss: 1.5769\n",
      "Epoch 9/10\n",
      "1/1 [==============================] - 0s 7ms/step - loss: 1.3394\n",
      "Epoch 10/10\n",
      "1/1 [==============================] - 0s 7ms/step - loss: 1.1509\n"
     ]
    },
    {
     "data": {
      "text/plain": [
       "<tensorflow.python.keras.callbacks.History at 0x13a3ba250>"
      ]
     },
     "execution_count": 29,
     "metadata": {},
     "output_type": "execute_result"
    }
   ],
   "source": [
    "model = tf.keras.Sequential([keras.layers.Dense(units=1, input_shape=[1])])\n",
    "model.compile(optimizer='sgd', loss=\"mse\") \n",
    "model.fit(x, y, epochs=10, callbacks=[model_checkpoint_callback])"
   ]
  },
  {
   "cell_type": "code",
   "execution_count": 11,
   "metadata": {},
   "outputs": [
    {
     "name": "stdout",
     "output_type": "stream",
     "text": [
      "[[6.5752664]]\n"
     ]
    }
   ],
   "source": [
    "print(model.predict([10.0]))"
   ]
  }
 ],
 "metadata": {
  "kernelspec": {
   "display_name": "Python 3",
   "language": "python",
   "name": "python3"
  },
  "language_info": {
   "codemirror_mode": {
    "name": "ipython",
    "version": 3
   },
   "file_extension": ".py",
   "mimetype": "text/x-python",
   "name": "python",
   "nbconvert_exporter": "python",
   "pygments_lexer": "ipython3",
   "version": "3.8.2"
  }
 },
 "nbformat": 4,
 "nbformat_minor": 4
}
