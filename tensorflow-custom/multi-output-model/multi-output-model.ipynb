{
 "cells": [
  {
   "cell_type": "code",
   "execution_count": 70,
   "metadata": {},
   "outputs": [],
   "source": [
    "import pandas as pd\n",
    "import numpy as np\n",
    "from sklearn.model_selection import train_test_split\n",
    "from tensorflow.keras.layers import Input\n",
    "from tensorflow.keras.layers import Dense, Flatten\n",
    "from tensorflow.keras.models import Model\n",
    "from tensorflow.keras.layers import Layer\n",
    "import tensorflow as tf"
   ]
  },
  {
   "cell_type": "code",
   "execution_count": 6,
   "metadata": {},
   "outputs": [],
   "source": [
    "df = pd.read_excel('ENB2012_data.xlsx', index_col=None)  "
   ]
  },
  {
   "cell_type": "code",
   "execution_count": 15,
   "metadata": {},
   "outputs": [],
   "source": [
    "df = df.sample(frac=0.5).reset_index(drop=True) # sample from dataset"
   ]
  },
  {
   "cell_type": "markdown",
   "metadata": {},
   "source": [
    "# Notice there are TWO outputs to predict - Y1 & Y2"
   ]
  },
  {
   "cell_type": "code",
   "execution_count": 40,
   "metadata": {},
   "outputs": [
    {
     "data": {
      "text/html": [
       "<div>\n",
       "<style scoped>\n",
       "    .dataframe tbody tr th:only-of-type {\n",
       "        vertical-align: middle;\n",
       "    }\n",
       "\n",
       "    .dataframe tbody tr th {\n",
       "        vertical-align: top;\n",
       "    }\n",
       "\n",
       "    .dataframe thead th {\n",
       "        text-align: right;\n",
       "    }\n",
       "</style>\n",
       "<table border=\"1\" class=\"dataframe\">\n",
       "  <thead>\n",
       "    <tr style=\"text-align: right;\">\n",
       "      <th></th>\n",
       "      <th>X1</th>\n",
       "      <th>X2</th>\n",
       "      <th>X3</th>\n",
       "      <th>X4</th>\n",
       "      <th>X5</th>\n",
       "      <th>X6</th>\n",
       "      <th>X7</th>\n",
       "      <th>X8</th>\n",
       "      <th>Y1</th>\n",
       "      <th>Y2</th>\n",
       "    </tr>\n",
       "  </thead>\n",
       "  <tbody>\n",
       "    <tr>\n",
       "      <th>0</th>\n",
       "      <td>0.90</td>\n",
       "      <td>563.5</td>\n",
       "      <td>318.5</td>\n",
       "      <td>122.50</td>\n",
       "      <td>7.0</td>\n",
       "      <td>5</td>\n",
       "      <td>0.25</td>\n",
       "      <td>2</td>\n",
       "      <td>31.66</td>\n",
       "      <td>37.72</td>\n",
       "    </tr>\n",
       "    <tr>\n",
       "      <th>1</th>\n",
       "      <td>0.64</td>\n",
       "      <td>784.0</td>\n",
       "      <td>343.0</td>\n",
       "      <td>220.50</td>\n",
       "      <td>3.5</td>\n",
       "      <td>3</td>\n",
       "      <td>0.00</td>\n",
       "      <td>0</td>\n",
       "      <td>10.54</td>\n",
       "      <td>16.80</td>\n",
       "    </tr>\n",
       "    <tr>\n",
       "      <th>2</th>\n",
       "      <td>0.79</td>\n",
       "      <td>637.0</td>\n",
       "      <td>343.0</td>\n",
       "      <td>147.00</td>\n",
       "      <td>7.0</td>\n",
       "      <td>2</td>\n",
       "      <td>0.40</td>\n",
       "      <td>4</td>\n",
       "      <td>42.77</td>\n",
       "      <td>38.33</td>\n",
       "    </tr>\n",
       "    <tr>\n",
       "      <th>3</th>\n",
       "      <td>0.82</td>\n",
       "      <td>612.5</td>\n",
       "      <td>318.5</td>\n",
       "      <td>147.00</td>\n",
       "      <td>7.0</td>\n",
       "      <td>2</td>\n",
       "      <td>0.10</td>\n",
       "      <td>3</td>\n",
       "      <td>22.93</td>\n",
       "      <td>28.68</td>\n",
       "    </tr>\n",
       "    <tr>\n",
       "      <th>4</th>\n",
       "      <td>0.98</td>\n",
       "      <td>514.5</td>\n",
       "      <td>294.0</td>\n",
       "      <td>110.25</td>\n",
       "      <td>7.0</td>\n",
       "      <td>5</td>\n",
       "      <td>0.25</td>\n",
       "      <td>4</td>\n",
       "      <td>28.62</td>\n",
       "      <td>30.12</td>\n",
       "    </tr>\n",
       "    <tr>\n",
       "      <th>...</th>\n",
       "      <td>...</td>\n",
       "      <td>...</td>\n",
       "      <td>...</td>\n",
       "      <td>...</td>\n",
       "      <td>...</td>\n",
       "      <td>...</td>\n",
       "      <td>...</td>\n",
       "      <td>...</td>\n",
       "      <td>...</td>\n",
       "      <td>...</td>\n",
       "    </tr>\n",
       "    <tr>\n",
       "      <th>187</th>\n",
       "      <td>0.82</td>\n",
       "      <td>612.5</td>\n",
       "      <td>318.5</td>\n",
       "      <td>147.00</td>\n",
       "      <td>7.0</td>\n",
       "      <td>3</td>\n",
       "      <td>0.25</td>\n",
       "      <td>2</td>\n",
       "      <td>25.98</td>\n",
       "      <td>26.96</td>\n",
       "    </tr>\n",
       "    <tr>\n",
       "      <th>188</th>\n",
       "      <td>0.79</td>\n",
       "      <td>637.0</td>\n",
       "      <td>343.0</td>\n",
       "      <td>147.00</td>\n",
       "      <td>7.0</td>\n",
       "      <td>5</td>\n",
       "      <td>0.25</td>\n",
       "      <td>4</td>\n",
       "      <td>40.12</td>\n",
       "      <td>37.26</td>\n",
       "    </tr>\n",
       "    <tr>\n",
       "      <th>189</th>\n",
       "      <td>0.74</td>\n",
       "      <td>686.0</td>\n",
       "      <td>245.0</td>\n",
       "      <td>220.50</td>\n",
       "      <td>3.5</td>\n",
       "      <td>3</td>\n",
       "      <td>0.25</td>\n",
       "      <td>4</td>\n",
       "      <td>12.30</td>\n",
       "      <td>15.24</td>\n",
       "    </tr>\n",
       "    <tr>\n",
       "      <th>190</th>\n",
       "      <td>0.86</td>\n",
       "      <td>588.0</td>\n",
       "      <td>294.0</td>\n",
       "      <td>147.00</td>\n",
       "      <td>7.0</td>\n",
       "      <td>4</td>\n",
       "      <td>0.25</td>\n",
       "      <td>3</td>\n",
       "      <td>29.43</td>\n",
       "      <td>28.38</td>\n",
       "    </tr>\n",
       "    <tr>\n",
       "      <th>191</th>\n",
       "      <td>0.82</td>\n",
       "      <td>612.5</td>\n",
       "      <td>318.5</td>\n",
       "      <td>147.00</td>\n",
       "      <td>7.0</td>\n",
       "      <td>3</td>\n",
       "      <td>0.10</td>\n",
       "      <td>1</td>\n",
       "      <td>24.03</td>\n",
       "      <td>24.91</td>\n",
       "    </tr>\n",
       "  </tbody>\n",
       "</table>\n",
       "<p>192 rows × 10 columns</p>\n",
       "</div>"
      ],
      "text/plain": [
       "       X1     X2     X3      X4   X5  X6    X7  X8     Y1     Y2\n",
       "0    0.90  563.5  318.5  122.50  7.0   5  0.25   2  31.66  37.72\n",
       "1    0.64  784.0  343.0  220.50  3.5   3  0.00   0  10.54  16.80\n",
       "2    0.79  637.0  343.0  147.00  7.0   2  0.40   4  42.77  38.33\n",
       "3    0.82  612.5  318.5  147.00  7.0   2  0.10   3  22.93  28.68\n",
       "4    0.98  514.5  294.0  110.25  7.0   5  0.25   4  28.62  30.12\n",
       "..    ...    ...    ...     ...  ...  ..   ...  ..    ...    ...\n",
       "187  0.82  612.5  318.5  147.00  7.0   3  0.25   2  25.98  26.96\n",
       "188  0.79  637.0  343.0  147.00  7.0   5  0.25   4  40.12  37.26\n",
       "189  0.74  686.0  245.0  220.50  3.5   3  0.25   4  12.30  15.24\n",
       "190  0.86  588.0  294.0  147.00  7.0   4  0.25   3  29.43  28.38\n",
       "191  0.82  612.5  318.5  147.00  7.0   3  0.10   1  24.03  24.91\n",
       "\n",
       "[192 rows x 10 columns]"
      ]
     },
     "execution_count": 40,
     "metadata": {},
     "output_type": "execute_result"
    }
   ],
   "source": [
    "df"
   ]
  },
  {
   "cell_type": "code",
   "execution_count": 41,
   "metadata": {},
   "outputs": [],
   "source": [
    "train, test = train_test_split(df, test_size=0.2)"
   ]
  },
  {
   "cell_type": "code",
   "execution_count": 32,
   "metadata": {},
   "outputs": [],
   "source": [
    "# Extract Y variables"
   ]
  },
  {
   "cell_type": "code",
   "execution_count": 25,
   "metadata": {},
   "outputs": [],
   "source": [
    "def format_output(data):\n",
    "    y1 = data.pop('Y1')\n",
    "    y1 = np.array(y1)\n",
    "    y2 = data.pop('Y2')\n",
    "    y2 = np.array(y2)\n",
    "    return y1, y2"
   ]
  },
  {
   "cell_type": "code",
   "execution_count": 42,
   "metadata": {},
   "outputs": [],
   "source": [
    "train_y = format_output(train)\n",
    "test_y = format_output(test)"
   ]
  },
  {
   "cell_type": "code",
   "execution_count": 48,
   "metadata": {},
   "outputs": [],
   "source": [
    "# Exploratory analysis"
   ]
  },
  {
   "cell_type": "code",
   "execution_count": 43,
   "metadata": {},
   "outputs": [],
   "source": [
    "train_stats = train.describe()"
   ]
  },
  {
   "cell_type": "code",
   "execution_count": 44,
   "metadata": {},
   "outputs": [
    {
     "data": {
      "text/html": [
       "<div>\n",
       "<style scoped>\n",
       "    .dataframe tbody tr th:only-of-type {\n",
       "        vertical-align: middle;\n",
       "    }\n",
       "\n",
       "    .dataframe tbody tr th {\n",
       "        vertical-align: top;\n",
       "    }\n",
       "\n",
       "    .dataframe thead th {\n",
       "        text-align: right;\n",
       "    }\n",
       "</style>\n",
       "<table border=\"1\" class=\"dataframe\">\n",
       "  <thead>\n",
       "    <tr style=\"text-align: right;\">\n",
       "      <th></th>\n",
       "      <th>X1</th>\n",
       "      <th>X2</th>\n",
       "      <th>X3</th>\n",
       "      <th>X4</th>\n",
       "      <th>X5</th>\n",
       "      <th>X6</th>\n",
       "      <th>X7</th>\n",
       "      <th>X8</th>\n",
       "    </tr>\n",
       "  </thead>\n",
       "  <tbody>\n",
       "    <tr>\n",
       "      <th>count</th>\n",
       "      <td>153.000000</td>\n",
       "      <td>153.000000</td>\n",
       "      <td>153.000000</td>\n",
       "      <td>153.000000</td>\n",
       "      <td>153.000000</td>\n",
       "      <td>153.000000</td>\n",
       "      <td>153.000000</td>\n",
       "      <td>153.000000</td>\n",
       "    </tr>\n",
       "    <tr>\n",
       "      <th>mean</th>\n",
       "      <td>0.763464</td>\n",
       "      <td>672.388889</td>\n",
       "      <td>323.143791</td>\n",
       "      <td>174.622549</td>\n",
       "      <td>5.352941</td>\n",
       "      <td>3.575163</td>\n",
       "      <td>0.234967</td>\n",
       "      <td>2.620915</td>\n",
       "    </tr>\n",
       "    <tr>\n",
       "      <th>std</th>\n",
       "      <td>0.107858</td>\n",
       "      <td>90.930501</td>\n",
       "      <td>43.876609</td>\n",
       "      <td>44.735003</td>\n",
       "      <td>1.752707</td>\n",
       "      <td>1.151045</td>\n",
       "      <td>0.131049</td>\n",
       "      <td>1.597723</td>\n",
       "    </tr>\n",
       "    <tr>\n",
       "      <th>min</th>\n",
       "      <td>0.620000</td>\n",
       "      <td>514.500000</td>\n",
       "      <td>245.000000</td>\n",
       "      <td>110.250000</td>\n",
       "      <td>3.500000</td>\n",
       "      <td>2.000000</td>\n",
       "      <td>0.000000</td>\n",
       "      <td>0.000000</td>\n",
       "    </tr>\n",
       "    <tr>\n",
       "      <th>25%</th>\n",
       "      <td>0.660000</td>\n",
       "      <td>612.500000</td>\n",
       "      <td>294.000000</td>\n",
       "      <td>147.000000</td>\n",
       "      <td>3.500000</td>\n",
       "      <td>3.000000</td>\n",
       "      <td>0.100000</td>\n",
       "      <td>1.000000</td>\n",
       "    </tr>\n",
       "    <tr>\n",
       "      <th>50%</th>\n",
       "      <td>0.760000</td>\n",
       "      <td>661.500000</td>\n",
       "      <td>318.500000</td>\n",
       "      <td>147.000000</td>\n",
       "      <td>7.000000</td>\n",
       "      <td>4.000000</td>\n",
       "      <td>0.250000</td>\n",
       "      <td>2.000000</td>\n",
       "    </tr>\n",
       "    <tr>\n",
       "      <th>75%</th>\n",
       "      <td>0.820000</td>\n",
       "      <td>759.500000</td>\n",
       "      <td>343.000000</td>\n",
       "      <td>220.500000</td>\n",
       "      <td>7.000000</td>\n",
       "      <td>5.000000</td>\n",
       "      <td>0.400000</td>\n",
       "      <td>4.000000</td>\n",
       "    </tr>\n",
       "    <tr>\n",
       "      <th>max</th>\n",
       "      <td>0.980000</td>\n",
       "      <td>808.500000</td>\n",
       "      <td>416.500000</td>\n",
       "      <td>220.500000</td>\n",
       "      <td>7.000000</td>\n",
       "      <td>5.000000</td>\n",
       "      <td>0.400000</td>\n",
       "      <td>5.000000</td>\n",
       "    </tr>\n",
       "  </tbody>\n",
       "</table>\n",
       "</div>"
      ],
      "text/plain": [
       "               X1          X2          X3          X4          X5          X6  \\\n",
       "count  153.000000  153.000000  153.000000  153.000000  153.000000  153.000000   \n",
       "mean     0.763464  672.388889  323.143791  174.622549    5.352941    3.575163   \n",
       "std      0.107858   90.930501   43.876609   44.735003    1.752707    1.151045   \n",
       "min      0.620000  514.500000  245.000000  110.250000    3.500000    2.000000   \n",
       "25%      0.660000  612.500000  294.000000  147.000000    3.500000    3.000000   \n",
       "50%      0.760000  661.500000  318.500000  147.000000    7.000000    4.000000   \n",
       "75%      0.820000  759.500000  343.000000  220.500000    7.000000    5.000000   \n",
       "max      0.980000  808.500000  416.500000  220.500000    7.000000    5.000000   \n",
       "\n",
       "               X7          X8  \n",
       "count  153.000000  153.000000  \n",
       "mean     0.234967    2.620915  \n",
       "std      0.131049    1.597723  \n",
       "min      0.000000    0.000000  \n",
       "25%      0.100000    1.000000  \n",
       "50%      0.250000    2.000000  \n",
       "75%      0.400000    4.000000  \n",
       "max      0.400000    5.000000  "
      ]
     },
     "execution_count": 44,
     "metadata": {},
     "output_type": "execute_result"
    }
   ],
   "source": [
    "train_stats"
   ]
  },
  {
   "cell_type": "code",
   "execution_count": 45,
   "metadata": {},
   "outputs": [],
   "source": [
    "train_stats = train_stats.transpose()"
   ]
  },
  {
   "cell_type": "code",
   "execution_count": 46,
   "metadata": {},
   "outputs": [
    {
     "data": {
      "text/html": [
       "<div>\n",
       "<style scoped>\n",
       "    .dataframe tbody tr th:only-of-type {\n",
       "        vertical-align: middle;\n",
       "    }\n",
       "\n",
       "    .dataframe tbody tr th {\n",
       "        vertical-align: top;\n",
       "    }\n",
       "\n",
       "    .dataframe thead th {\n",
       "        text-align: right;\n",
       "    }\n",
       "</style>\n",
       "<table border=\"1\" class=\"dataframe\">\n",
       "  <thead>\n",
       "    <tr style=\"text-align: right;\">\n",
       "      <th></th>\n",
       "      <th>count</th>\n",
       "      <th>mean</th>\n",
       "      <th>std</th>\n",
       "      <th>min</th>\n",
       "      <th>25%</th>\n",
       "      <th>50%</th>\n",
       "      <th>75%</th>\n",
       "      <th>max</th>\n",
       "    </tr>\n",
       "  </thead>\n",
       "  <tbody>\n",
       "    <tr>\n",
       "      <th>X1</th>\n",
       "      <td>153.0</td>\n",
       "      <td>0.763464</td>\n",
       "      <td>0.107858</td>\n",
       "      <td>0.62</td>\n",
       "      <td>0.66</td>\n",
       "      <td>0.76</td>\n",
       "      <td>0.82</td>\n",
       "      <td>0.98</td>\n",
       "    </tr>\n",
       "    <tr>\n",
       "      <th>X2</th>\n",
       "      <td>153.0</td>\n",
       "      <td>672.388889</td>\n",
       "      <td>90.930501</td>\n",
       "      <td>514.50</td>\n",
       "      <td>612.50</td>\n",
       "      <td>661.50</td>\n",
       "      <td>759.50</td>\n",
       "      <td>808.50</td>\n",
       "    </tr>\n",
       "    <tr>\n",
       "      <th>X3</th>\n",
       "      <td>153.0</td>\n",
       "      <td>323.143791</td>\n",
       "      <td>43.876609</td>\n",
       "      <td>245.00</td>\n",
       "      <td>294.00</td>\n",
       "      <td>318.50</td>\n",
       "      <td>343.00</td>\n",
       "      <td>416.50</td>\n",
       "    </tr>\n",
       "    <tr>\n",
       "      <th>X4</th>\n",
       "      <td>153.0</td>\n",
       "      <td>174.622549</td>\n",
       "      <td>44.735003</td>\n",
       "      <td>110.25</td>\n",
       "      <td>147.00</td>\n",
       "      <td>147.00</td>\n",
       "      <td>220.50</td>\n",
       "      <td>220.50</td>\n",
       "    </tr>\n",
       "    <tr>\n",
       "      <th>X5</th>\n",
       "      <td>153.0</td>\n",
       "      <td>5.352941</td>\n",
       "      <td>1.752707</td>\n",
       "      <td>3.50</td>\n",
       "      <td>3.50</td>\n",
       "      <td>7.00</td>\n",
       "      <td>7.00</td>\n",
       "      <td>7.00</td>\n",
       "    </tr>\n",
       "    <tr>\n",
       "      <th>X6</th>\n",
       "      <td>153.0</td>\n",
       "      <td>3.575163</td>\n",
       "      <td>1.151045</td>\n",
       "      <td>2.00</td>\n",
       "      <td>3.00</td>\n",
       "      <td>4.00</td>\n",
       "      <td>5.00</td>\n",
       "      <td>5.00</td>\n",
       "    </tr>\n",
       "    <tr>\n",
       "      <th>X7</th>\n",
       "      <td>153.0</td>\n",
       "      <td>0.234967</td>\n",
       "      <td>0.131049</td>\n",
       "      <td>0.00</td>\n",
       "      <td>0.10</td>\n",
       "      <td>0.25</td>\n",
       "      <td>0.40</td>\n",
       "      <td>0.40</td>\n",
       "    </tr>\n",
       "    <tr>\n",
       "      <th>X8</th>\n",
       "      <td>153.0</td>\n",
       "      <td>2.620915</td>\n",
       "      <td>1.597723</td>\n",
       "      <td>0.00</td>\n",
       "      <td>1.00</td>\n",
       "      <td>2.00</td>\n",
       "      <td>4.00</td>\n",
       "      <td>5.00</td>\n",
       "    </tr>\n",
       "  </tbody>\n",
       "</table>\n",
       "</div>"
      ],
      "text/plain": [
       "    count        mean        std     min     25%     50%     75%     max\n",
       "X1  153.0    0.763464   0.107858    0.62    0.66    0.76    0.82    0.98\n",
       "X2  153.0  672.388889  90.930501  514.50  612.50  661.50  759.50  808.50\n",
       "X3  153.0  323.143791  43.876609  245.00  294.00  318.50  343.00  416.50\n",
       "X4  153.0  174.622549  44.735003  110.25  147.00  147.00  220.50  220.50\n",
       "X5  153.0    5.352941   1.752707    3.50    3.50    7.00    7.00    7.00\n",
       "X6  153.0    3.575163   1.151045    2.00    3.00    4.00    5.00    5.00\n",
       "X7  153.0    0.234967   0.131049    0.00    0.10    0.25    0.40    0.40\n",
       "X8  153.0    2.620915   1.597723    0.00    1.00    2.00    4.00    5.00"
      ]
     },
     "execution_count": 46,
     "metadata": {},
     "output_type": "execute_result"
    }
   ],
   "source": [
    "train_stats"
   ]
  },
  {
   "cell_type": "code",
   "execution_count": null,
   "metadata": {},
   "outputs": [],
   "source": [
    "# Normalize training and test data"
   ]
  },
  {
   "cell_type": "code",
   "execution_count": 49,
   "metadata": {},
   "outputs": [],
   "source": [
    "def norm(x):\n",
    "    return (x-train_stats['mean']) / train_stats['std']"
   ]
  },
  {
   "cell_type": "code",
   "execution_count": 53,
   "metadata": {},
   "outputs": [],
   "source": [
    "train_x = train\n",
    "test_x = test"
   ]
  },
  {
   "cell_type": "code",
   "execution_count": 54,
   "metadata": {},
   "outputs": [],
   "source": [
    "norm_train_x = norm(train_x)\n",
    "norm_test_x = norm(test_x)"
   ]
  },
  {
   "cell_type": "markdown",
   "metadata": {},
   "source": [
    "# Creating Multi-Output Model"
   ]
  },
  {
   "cell_type": "code",
   "execution_count": 59,
   "metadata": {},
   "outputs": [],
   "source": [
    "input_layer = Input(shape=(len(train_x.columns)),)\n",
    "first_dense = Dense(units='128', activation='relu')(input_layer)\n",
    "second_dense = Dense(units='128', activation='relu')(first_dense)"
   ]
  },
  {
   "cell_type": "code",
   "execution_count": 62,
   "metadata": {},
   "outputs": [],
   "source": [
    "# Y1 output will be fed directly from second dense\n",
    "y1_output = Dense(units='1', name='y1_output')(second_dense)"
   ]
  },
  {
   "cell_type": "code",
   "execution_count": 61,
   "metadata": {},
   "outputs": [],
   "source": [
    "# Y2 output will be fed after the output of a third dense layer\n",
    "third_dense = Dense(units='64', activation='relu')(second_dense)\n",
    "y2_output = y1_output = Dense(units='1', name='y2_output')(third_dense)"
   ]
  },
  {
   "cell_type": "code",
   "execution_count": 63,
   "metadata": {},
   "outputs": [],
   "source": [
    "# Define model with input layer and LIST of output layers\n",
    "model = Model(inputs=input_layer, outputs=[y1_output, y2_output]) "
   ]
  },
  {
   "cell_type": "code",
   "execution_count": 64,
   "metadata": {},
   "outputs": [
    {
     "name": "stdout",
     "output_type": "stream",
     "text": [
      "Model: \"model\"\n",
      "__________________________________________________________________________________________________\n",
      "Layer (type)                    Output Shape         Param #     Connected to                     \n",
      "==================================================================================================\n",
      "input_2 (InputLayer)            [(None, 8)]          0                                            \n",
      "__________________________________________________________________________________________________\n",
      "dense (Dense)                   (None, 128)          1152        input_2[0][0]                    \n",
      "__________________________________________________________________________________________________\n",
      "dense_1 (Dense)                 (None, 128)          16512       dense[0][0]                      \n",
      "__________________________________________________________________________________________________\n",
      "dense_2 (Dense)                 (None, 64)           8256        dense_1[0][0]                    \n",
      "__________________________________________________________________________________________________\n",
      "y1_output (Dense)               (None, 1)            129         dense_1[0][0]                    \n",
      "__________________________________________________________________________________________________\n",
      "y2_output (Dense)               (None, 1)            65          dense_2[0][0]                    \n",
      "==================================================================================================\n",
      "Total params: 26,114\n",
      "Trainable params: 26,114\n",
      "Non-trainable params: 0\n",
      "__________________________________________________________________________________________________\n"
     ]
    }
   ],
   "source": [
    "model.summary()"
   ]
  },
  {
   "cell_type": "code",
   "execution_count": 79,
   "metadata": {},
   "outputs": [],
   "source": [
    "optimizer = tf.keras.optimizers.SGD(lr=0.001)\n",
    "model.compile(optimizer=optimizer,\n",
    "              loss={'y1_output': 'mse', 'y2_output': 'mse'},\n",
    "              metrics = {'y1_output': tf.keras.metrics.RootMeanSquaredError(), \n",
    "                         'y2_output': tf.keras.metrics.RootMeanSquaredError()\n",
    "                        }\n",
    "             )"
   ]
  },
  {
   "cell_type": "code",
   "execution_count": 80,
   "metadata": {},
   "outputs": [],
   "source": [
    "model._layers = [\n",
    "    layer for layer in model._layers if isinstance(layer, Layer)\n",
    "]"
   ]
  },
  {
   "cell_type": "markdown",
   "metadata": {},
   "source": [
    "# Visualise model"
   ]
  },
  {
   "cell_type": "code",
   "execution_count": 72,
   "metadata": {},
   "outputs": [],
   "source": [
    "from tensorflow.python.keras.utils.vis_utils import plot_model"
   ]
  },
  {
   "cell_type": "code",
   "execution_count": 75,
   "metadata": {},
   "outputs": [
    {
     "data": {
      "image/png": "[encoded data removed]",
      "text/plain": [
       "<IPython.core.display.Image object>"
      ]
     },
     "execution_count": 75,
     "metadata": {},
     "output_type": "execute_result"
    }
   ],
   "source": [
    "plot_model(model)"
   ]
  },
  {
   "cell_type": "markdown",
   "metadata": {},
   "source": [
    "# Run model"
   ]
  },
  {
   "cell_type": "code",
   "execution_count": 81,
   "metadata": {},
   "outputs": [
    {
     "name": "stdout",
     "output_type": "stream",
     "text": [
      "Epoch 1/20\n",
      "16/16 [==============================] - 1s 17ms/step - loss: 1167.8350 - y1_output_loss: 558.4499 - y2_output_loss: 609.3851 - y1_output_root_mean_squared_error: 23.5781 - y2_output_root_mean_squared_error: 24.6025 - val_loss: 227.0684 - val_y1_output_loss: 66.0483 - val_y2_output_loss: 161.0200 - val_y1_output_root_mean_squared_error: 8.1270 - val_y2_output_root_mean_squared_error: 12.6894\n",
      "Epoch 2/20\n",
      "16/16 [==============================] - 0s 4ms/step - loss: 75.2038 - y1_output_loss: 35.9301 - y2_output_loss: 39.2738 - y1_output_root_mean_squared_error: 5.9764 - y2_output_root_mean_squared_error: 6.2539 - val_loss: 62.2681 - val_y1_output_loss: 28.1854 - val_y2_output_loss: 34.0828 - val_y1_output_root_mean_squared_error: 5.3090 - val_y2_output_root_mean_squared_error: 5.8380\n",
      "Epoch 3/20\n",
      "16/16 [==============================] - 0s 5ms/step - loss: 58.8758 - y1_output_loss: 25.0725 - y2_output_loss: 33.8033 - y1_output_root_mean_squared_error: 4.9625 - y2_output_root_mean_squared_error: 5.7741 - val_loss: 53.1798 - val_y1_output_loss: 23.7554 - val_y2_output_loss: 29.4245 - val_y1_output_root_mean_squared_error: 4.8739 - val_y2_output_root_mean_squared_error: 5.4244\n",
      "Epoch 4/20\n",
      "16/16 [==============================] - 0s 5ms/step - loss: 34.9745 - y1_output_loss: 14.7303 - y2_output_loss: 20.2443 - y1_output_root_mean_squared_error: 3.8238 - y2_output_root_mean_squared_error: 4.4831 - val_loss: 90.1503 - val_y1_output_loss: 26.2245 - val_y2_output_loss: 63.9257 - val_y1_output_root_mean_squared_error: 5.1210 - val_y2_output_root_mean_squared_error: 7.9954\n",
      "Epoch 5/20\n",
      "16/16 [==============================] - 0s 6ms/step - loss: 37.9604 - y1_output_loss: 12.6924 - y2_output_loss: 25.2680 - y1_output_root_mean_squared_error: 3.5321 - y2_output_root_mean_squared_error: 4.9888 - val_loss: 39.9889 - val_y1_output_loss: 17.4235 - val_y2_output_loss: 22.5655 - val_y1_output_root_mean_squared_error: 4.1741 - val_y2_output_root_mean_squared_error: 4.7503\n",
      "Epoch 6/20\n",
      "16/16 [==============================] - 0s 6ms/step - loss: 37.9408 - y1_output_loss: 15.1047 - y2_output_loss: 22.8361 - y1_output_root_mean_squared_error: 3.8756 - y2_output_root_mean_squared_error: 4.7545 - val_loss: 36.9308 - val_y1_output_loss: 16.1316 - val_y2_output_loss: 20.7993 - val_y1_output_root_mean_squared_error: 4.0164 - val_y2_output_root_mean_squared_error: 4.5606\n",
      "Epoch 7/20\n",
      "16/16 [==============================] - 0s 7ms/step - loss: 22.4676 - y1_output_loss: 9.4015 - y2_output_loss: 13.0661 - y1_output_root_mean_squared_error: 3.0469 - y2_output_root_mean_squared_error: 3.5949 - val_loss: 29.7339 - val_y1_output_loss: 13.0897 - val_y2_output_loss: 16.6442 - val_y1_output_root_mean_squared_error: 3.6180 - val_y2_output_root_mean_squared_error: 4.0797\n",
      "Epoch 8/20\n",
      "16/16 [==============================] - 0s 4ms/step - loss: 25.3289 - y1_output_loss: 10.1858 - y2_output_loss: 15.1432 - y1_output_root_mean_squared_error: 3.1789 - y2_output_root_mean_squared_error: 3.8814 - val_loss: 54.3019 - val_y1_output_loss: 14.7561 - val_y2_output_loss: 39.5458 - val_y1_output_root_mean_squared_error: 3.8414 - val_y2_output_root_mean_squared_error: 6.2885\n",
      "Epoch 9/20\n",
      "16/16 [==============================] - 0s 4ms/step - loss: 30.2064 - y1_output_loss: 10.1011 - y2_output_loss: 20.1053 - y1_output_root_mean_squared_error: 3.1758 - y2_output_root_mean_squared_error: 4.4032 - val_loss: 23.9035 - val_y1_output_loss: 10.2486 - val_y2_output_loss: 13.6549 - val_y1_output_root_mean_squared_error: 3.2013 - val_y2_output_root_mean_squared_error: 3.6953\n",
      "Epoch 10/20\n",
      "16/16 [==============================] - 0s 4ms/step - loss: 19.9517 - y1_output_loss: 9.9618 - y2_output_loss: 9.9900 - y1_output_root_mean_squared_error: 3.1388 - y2_output_root_mean_squared_error: 3.1303 - val_loss: 29.7732 - val_y1_output_loss: 12.7624 - val_y2_output_loss: 17.0108 - val_y1_output_root_mean_squared_error: 3.5724 - val_y2_output_root_mean_squared_error: 4.1244\n",
      "Epoch 11/20\n",
      "16/16 [==============================] - 0s 3ms/step - loss: 21.7191 - y1_output_loss: 9.4497 - y2_output_loss: 12.2694 - y1_output_root_mean_squared_error: 3.0350 - y2_output_root_mean_squared_error: 3.4789 - val_loss: 44.3866 - val_y1_output_loss: 14.6116 - val_y2_output_loss: 29.7750 - val_y1_output_root_mean_squared_error: 3.8225 - val_y2_output_root_mean_squared_error: 5.4566\n",
      "Epoch 12/20\n",
      "16/16 [==============================] - 0s 3ms/step - loss: 25.8169 - y1_output_loss: 11.0333 - y2_output_loss: 14.7836 - y1_output_root_mean_squared_error: 3.3173 - y2_output_root_mean_squared_error: 3.8361 - val_loss: 34.1589 - val_y1_output_loss: 12.6392 - val_y2_output_loss: 21.5197 - val_y1_output_root_mean_squared_error: 3.5552 - val_y2_output_root_mean_squared_error: 4.6389\n",
      "Epoch 13/20\n",
      "16/16 [==============================] - 0s 4ms/step - loss: 30.6340 - y1_output_loss: 11.8028 - y2_output_loss: 18.8312 - y1_output_root_mean_squared_error: 3.4253 - y2_output_root_mean_squared_error: 4.3076 - val_loss: 36.4785 - val_y1_output_loss: 11.3216 - val_y2_output_loss: 25.1569 - val_y1_output_root_mean_squared_error: 3.3648 - val_y2_output_root_mean_squared_error: 5.0157\n",
      "Epoch 14/20\n",
      "16/16 [==============================] - 0s 4ms/step - loss: 52.8202 - y1_output_loss: 17.6497 - y2_output_loss: 35.1705 - y1_output_root_mean_squared_error: 4.1108 - y2_output_root_mean_squared_error: 5.8219 - val_loss: 23.8904 - val_y1_output_loss: 10.0218 - val_y2_output_loss: 13.8686 - val_y1_output_root_mean_squared_error: 3.1657 - val_y2_output_root_mean_squared_error: 3.7241\n",
      "Epoch 15/20\n",
      "16/16 [==============================] - 0s 3ms/step - loss: 27.9089 - y1_output_loss: 11.0386 - y2_output_loss: 16.8703 - y1_output_root_mean_squared_error: 3.2816 - y2_output_root_mean_squared_error: 4.0720 - val_loss: 23.2971 - val_y1_output_loss: 9.1797 - val_y2_output_loss: 14.1174 - val_y1_output_root_mean_squared_error: 3.0298 - val_y2_output_root_mean_squared_error: 3.7573\n",
      "Epoch 16/20\n",
      "16/16 [==============================] - 0s 3ms/step - loss: 12.3876 - y1_output_loss: 6.0938 - y2_output_loss: 6.2938 - y1_output_root_mean_squared_error: 2.4362 - y2_output_root_mean_squared_error: 2.4543 - val_loss: 23.0077 - val_y1_output_loss: 10.0474 - val_y2_output_loss: 12.9603 - val_y1_output_root_mean_squared_error: 3.1698 - val_y2_output_root_mean_squared_error: 3.6000\n",
      "Epoch 17/20\n",
      "16/16 [==============================] - 0s 4ms/step - loss: 23.6528 - y1_output_loss: 9.1327 - y2_output_loss: 14.5201 - y1_output_root_mean_squared_error: 3.0042 - y2_output_root_mean_squared_error: 3.7156 - val_loss: 38.3072 - val_y1_output_loss: 14.6768 - val_y2_output_loss: 23.6304 - val_y1_output_root_mean_squared_error: 3.8310 - val_y2_output_root_mean_squared_error: 4.8611\n",
      "Epoch 18/20\n",
      "16/16 [==============================] - 0s 4ms/step - loss: 22.5454 - y1_output_loss: 7.2922 - y2_output_loss: 15.2532 - y1_output_root_mean_squared_error: 2.6835 - y2_output_root_mean_squared_error: 3.8940 - val_loss: 29.0015 - val_y1_output_loss: 12.1006 - val_y2_output_loss: 16.9009 - val_y1_output_root_mean_squared_error: 3.4786 - val_y2_output_root_mean_squared_error: 4.1111\n",
      "Epoch 19/20\n",
      "16/16 [==============================] - 0s 4ms/step - loss: 22.4622 - y1_output_loss: 11.1368 - y2_output_loss: 11.3255 - y1_output_root_mean_squared_error: 3.3155 - y2_output_root_mean_squared_error: 3.3621 - val_loss: 25.0153 - val_y1_output_loss: 10.1752 - val_y2_output_loss: 14.8401 - val_y1_output_root_mean_squared_error: 3.1899 - val_y2_output_root_mean_squared_error: 3.8523\n",
      "Epoch 20/20\n",
      "16/16 [==============================] - 0s 3ms/step - loss: 18.0184 - y1_output_loss: 7.8589 - y2_output_loss: 10.1595 - y1_output_root_mean_squared_error: 2.7778 - y2_output_root_mean_squared_error: 3.1550 - val_loss: 26.9187 - val_y1_output_loss: 10.5268 - val_y2_output_loss: 16.3919 - val_y1_output_root_mean_squared_error: 3.2445 - val_y2_output_root_mean_squared_error: 4.0487\n"
     ]
    }
   ],
   "source": [
    "history = model.fit(norm_train_x, train_y,\n",
    "                    epochs=20, batch_size=10, validation_data=(norm_test_x, test_y))"
   ]
  },
  {
   "cell_type": "code",
   "execution_count": 82,
   "metadata": {},
   "outputs": [
    {
     "name": "stdout",
     "output_type": "stream",
     "text": [
      "2/2 [==============================] - 0s 2ms/step - loss: 26.9187 - y1_output_loss: 10.5268 - y2_output_loss: 16.3919 - y1_output_root_mean_squared_error: 3.2445 - y2_output_root_mean_squared_error: 4.0487\n"
     ]
    },
    {
     "data": {
      "text/plain": [
       "[26.918745040893555,\n",
       " 10.52682113647461,\n",
       " 16.391923904418945,\n",
       " 3.244506359100342,\n",
       " 4.048694133758545]"
      ]
     },
     "execution_count": 82,
     "metadata": {},
     "output_type": "execute_result"
    }
   ],
   "source": [
    "model.evaluate(x=norm_test_x, y=test_y)"
   ]
  },
  {
   "cell_type": "code",
   "execution_count": 83,
   "metadata": {},
   "outputs": [],
   "source": [
    "y_pred = model.predict(norm_test_x)"
   ]
  },
  {
   "cell_type": "code",
   "execution_count": 88,
   "metadata": {},
   "outputs": [],
   "source": [
    "y1_pred, y2_pred = y_pred # PREDICTIONS for BOTH Y1 and Y2"
   ]
  }
 ],
 "metadata": {
  "kernelspec": {
   "display_name": "Python 3",
   "language": "python",
   "name": "python3"
  },
  "language_info": {
   "codemirror_mode": {
    "name": "ipython",
    "version": 3
   },
   "file_extension": ".py",
   "mimetype": "text/x-python",
   "name": "python",
   "nbconvert_exporter": "python",
   "pygments_lexer": "ipython3",
   "version": "3.8.2"
  }
 },
 "nbformat": 4,
 "nbformat_minor": 4
}
