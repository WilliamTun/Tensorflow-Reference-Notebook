{
 "cells": [
  {
   "cell_type": "markdown",
   "metadata": {},
   "source": [
    "# Custom simple Dense Layer"
   ]
  },
  {
   "cell_type": "code",
   "execution_count": 5,
   "metadata": {},
   "outputs": [],
   "source": [
    "import tensorflow as tf\n",
    "import numpy as np\n",
    "from tensorflow import keras\n",
    "from tensorflow.keras.layers import Layer"
   ]
  },
  {
   "cell_type": "code",
   "execution_count": 6,
   "metadata": {},
   "outputs": [],
   "source": [
    "x = np.array([-1.0, 0.0, 1.0, 2.0, 3.0, 4.0], dtype=float)\n",
    "y = np.array([-2.0, -1.0, 1.0, 3.0, 5.0, 7.0], dtype=float)"
   ]
  },
  {
   "cell_type": "code",
   "execution_count": 10,
   "metadata": {},
   "outputs": [],
   "source": [
    "class SimpleDense(Layer):\n",
    "    \n",
    "    def __init__(self, units=32, activation=None):\n",
    "        super(SimpleDense, self).__init__()\n",
    "        self.units = units\n",
    "        self.activation = tf.keras.activations.get(activation)\n",
    "    \n",
    "    def build(self, input_shape):  \n",
    "        '''\n",
    "        define STATE of layer\n",
    "        '''\n",
    "        w_init = tf.random_normal_initializer() # initialise weight by sampling from normal distribution\n",
    "        b_init = tf.zeros_initializer() # initialise bias constant by sampling from zero\n",
    "        \n",
    "        # weight\n",
    "        self.w = tf.Variable(name=\"kernel\", \n",
    "                            initial_value=w_init(shape=(input_shape[-1], self.units), dtype='float32'),\n",
    "                            trainable=True)\n",
    "        \n",
    "        # bias\n",
    "        self.b = tf.Variable(name=\"bias\",\n",
    "                            initial_value=b_init(shape=(self.units,), dtype='float32'),\n",
    "                            trainable=True\n",
    "                            )\n",
    "    \n",
    "    def call(self, inputs):  \n",
    "        '''\n",
    "        define computation from imput to output. Y = wX + b \n",
    "        '''\n",
    "        return self.activation(\n",
    "            tf.matmul(inputs, self.w) + self.b\n",
    "        )"
   ]
  },
  {
   "cell_type": "code",
   "execution_count": 15,
   "metadata": {},
   "outputs": [
    {
     "data": {
      "text/plain": [
       "<tensorflow.python.keras.callbacks.History at 0x136f60f10>"
      ]
     },
     "execution_count": 15,
     "metadata": {},
     "output_type": "execute_result"
    }
   ],
   "source": [
    "model = tf.keras.Sequential([SimpleDense(units=1, activation=None)]) # activation = relu \n",
    "model.compile(optimizer='sgd', loss='mse') # Use CUSTOM Loss function\n",
    "model.fit(x, y, epochs=10, verbose = 0)\n"
   ]
  },
  {
   "cell_type": "code",
   "execution_count": 16,
   "metadata": {},
   "outputs": [
    {
     "name": "stdout",
     "output_type": "stream",
     "text": [
      "[[11.139016]]\n"
     ]
    }
   ],
   "source": [
    "print(model.predict([10.0]))"
   ]
  }
 ],
 "metadata": {
  "kernelspec": {
   "display_name": "Python 3",
   "language": "python",
   "name": "python3"
  },
  "language_info": {
   "codemirror_mode": {
    "name": "ipython",
    "version": 3
   },
   "file_extension": ".py",
   "mimetype": "text/x-python",
   "name": "python",
   "nbconvert_exporter": "python",
   "pygments_lexer": "ipython3",
   "version": "3.8.2"
  }
 },
 "nbformat": 4,
 "nbformat_minor": 4
}
