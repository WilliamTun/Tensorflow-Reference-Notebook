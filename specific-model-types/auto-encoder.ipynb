{
 "cells": [
  {
   "cell_type": "code",
   "execution_count": 3,
   "metadata": {},
   "outputs": [],
   "source": [
    "import tensorflow as tf\n",
    "import numpy as np\n",
    "from tensorflow import keras"
   ]
  },
  {
   "cell_type": "code",
   "execution_count": 8,
   "metadata": {},
   "outputs": [],
   "source": [
    "x = np.array([-1.0, 0.0, 1.0, 2.0, 3.0, 4.0], dtype=float)\n",
    "y = np.array([-2.0, -1.0, 1.0, 3.0, 5.0, 7.0], dtype=float)"
   ]
  },
  {
   "cell_type": "code",
   "execution_count": 20,
   "metadata": {},
   "outputs": [
    {
     "data": {
      "text/plain": [
       "<tensorflow.python.keras.callbacks.History at 0x13838e3a0>"
      ]
     },
     "execution_count": 20,
     "metadata": {},
     "output_type": "execute_result"
    }
   ],
   "source": [
    "encoder = tf.keras.Sequential([keras.layers.Dense(2, input_shape=[1])])\n",
    "decoder = tf.keras.Sequential([keras.layers.Dense(3, input_shape=[2])])\n",
    "autoencoder = tf.keras.models.Sequential([encoder, decoder])\n",
    "autoencoder.compile(optimizer='sgd', loss=\"mse\") \n",
    "\n",
    "# Note how you are trying to predict the X train, not Y, with the same dataset! \n",
    "model.fit(x, x, epochs=20, verbose = 0)"
   ]
  },
  {
   "cell_type": "code",
   "execution_count": 13,
   "metadata": {},
   "outputs": [
    {
     "name": "stdout",
     "output_type": "stream",
     "text": [
      "[[ 5.379741 11.681138]]\n"
     ]
    }
   ],
   "source": [
    "# Start with X data\n",
    "# Use encoder to learn a 2D representation of the data. \n",
    "# encoder is a single dense layer with 2 neurons that take in X. \n",
    "\n",
    "print(encoder.predict([10.0]))"
   ]
  },
  {
   "cell_type": "code",
   "execution_count": 19,
   "metadata": {},
   "outputs": [
    {
     "name": "stdout",
     "output_type": "stream",
     "text": [
      "[[-5.9550467  3.644774  -1.2929401]]\n"
     ]
    }
   ],
   "source": [
    "# Decoder is a dense layer with 3 neurons \n",
    "# with an input shape of 2, as it decodes the 2D latent representation created by encoder\n",
    "# and also is the output layer\n",
    "\n",
    "print(decoder.predict([[ 5.379741, 11.681138]]))"
   ]
  },
  {
   "cell_type": "code",
   "execution_count": 17,
   "metadata": {},
   "outputs": [
    {
     "name": "stdout",
     "output_type": "stream",
     "text": [
      "[[10.235056]]\n"
     ]
    }
   ],
   "source": [
    "print(model.predict([10.0]))"
   ]
  }
 ],
 "metadata": {
  "kernelspec": {
   "display_name": "Python 3",
   "language": "python",
   "name": "python3"
  },
  "language_info": {
   "codemirror_mode": {
    "name": "ipython",
    "version": 3
   },
   "file_extension": ".py",
   "mimetype": "text/x-python",
   "name": "python",
   "nbconvert_exporter": "python",
   "pygments_lexer": "ipython3",
   "version": "3.8.2"
  }
 },
 "nbformat": 4,
 "nbformat_minor": 4
}
