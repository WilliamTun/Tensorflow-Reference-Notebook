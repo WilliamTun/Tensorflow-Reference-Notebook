{
 "cells": [
  {
   "cell_type": "markdown",
   "metadata": {
    "colab_type": "text",
    "id": "iQjHqsmTAVLU"
   },
   "source": [
    "## Fashion MNIST CNN\n",
    "\n",
    "Improving ANN into CNNs with the inclusion of Convlution layers (+MaxPooling). "
   ]
  },
  {
   "cell_type": "code",
   "execution_count": 1,
   "metadata": {},
   "outputs": [],
   "source": [
    "import tensorflow as tf\n",
    "from os import path, getcwd, chdir\n",
    "\n",
    "path = f\"{getcwd()}/../tmp2/mnist.npz\" # path to data"
   ]
  },
  {
   "cell_type": "code",
   "execution_count": 2,
   "metadata": {},
   "outputs": [],
   "source": [
    "config = tf.ConfigProto()\n",
    "config.gpu_options.allow_growth = True\n",
    "sess = tf.Session(config=config)"
   ]
  },
  {
   "cell_type": "code",
   "execution_count": 2,
   "metadata": {},
   "outputs": [],
   "source": [
    "# GRADED FUNCTION: train_mnist_conv\n",
    "def train_mnist_conv():\n",
    "    \n",
    "    class myCallback(tf.keras.callbacks.Callback):\n",
    "        def on_epoch_end(self, epoch, logs={}):\n",
    "            if(logs['acc'] > 0.998):\n",
    "                print(\"Reached 99.8% accuracy so cancelling training!\")\n",
    "                self.model.stop_training = True \n",
    "    callbacks = myCallback()\n",
    "    \n",
    "\n",
    "    mnist = tf.keras.datasets.mnist\n",
    "    (training_images, training_labels), (test_images, test_labels) = mnist.load_data(path=path)\n",
    "\n",
    "    training_images=training_images.reshape(60000, 28, 28, 1)\n",
    "    training_images=training_images/255.0\n",
    "    test_images=test_images.reshape(10000, 28, 28, 1)\n",
    "    test_images=test_images/255.0\n",
    "\n",
    "\n",
    "    model = tf.keras.models.Sequential([\n",
    "           \n",
    "            tf.keras.layers.Conv2D(64, (3,3), activation=\"relu\", input_shape=(28, 28, 1)), \n",
    "            tf.keras.layers.MaxPooling2D(2,2),\n",
    "            tf.keras.layers.Conv2D(64, (3,3), activation=\"relu\"),\n",
    "            tf.keras.layers.MaxPooling2D(2,2),\n",
    "            tf.keras.layers.Flatten(), \n",
    "            tf.keras.layers.Dense(128, activation=\"relu\"),\n",
    "            tf.keras.layers.Dense(10, activation=\"softmax\")\n",
    "            \n",
    "    ])\n",
    "\n",
    "    model.compile(optimizer='adam', loss='sparse_categorical_crossentropy', metrics=['accuracy'])\n",
    "    # model fitting\n",
    "    history = model.fit(\n",
    "        training_images, \n",
    "        training_labels, \n",
    "        epochs=20,\n",
    "        callbacks=[callbacks]\n",
    "    )\n",
    "    # model fitting\n",
    "    return history.epoch, history.history['acc'][-1]\n",
    "\n"
   ]
  },
  {
   "cell_type": "code",
   "execution_count": 8,
   "metadata": {},
   "outputs": [
    {
     "name": "stderr",
     "output_type": "stream",
     "text": [
      "WARNING: Logging before flag parsing goes to stderr.\n",
      "W0724 15:06:34.392832 139801293563712 deprecation.py:506] From /usr/local/lib/python3.6/dist-packages/tensorflow/python/ops/init_ops.py:1251: calling VarianceScaling.__init__ (from tensorflow.python.ops.init_ops) with dtype is deprecated and will be removed in a future version.\n",
      "Instructions for updating:\n",
      "Call initializer instance with the dtype argument instead of passing it to the constructor\n"
     ]
    },
    {
     "name": "stdout",
     "output_type": "stream",
     "text": [
      "Epoch 1/20\n",
      "60000/60000 [==============================] - 23s 390us/sample - loss: 0.1215 - acc: 0.9621\n",
      "Epoch 2/20\n",
      "60000/60000 [==============================] - 18s 292us/sample - loss: 0.0385 - acc: 0.9884\n",
      "Epoch 3/20\n",
      "60000/60000 [==============================] - 18s 302us/sample - loss: 0.0256 - acc: 0.9923\n",
      "Epoch 4/20\n",
      "60000/60000 [==============================] - 18s 297us/sample - loss: 0.0195 - acc: 0.9932\n",
      "Epoch 5/20\n",
      "60000/60000 [==============================] - 18s 303us/sample - loss: 0.0136 - acc: 0.9956\n",
      "Epoch 6/20\n",
      "60000/60000 [==============================] - 19s 317us/sample - loss: 0.0101 - acc: 0.9967\n",
      "Epoch 7/20\n",
      "60000/60000 [==============================] - 18s 305us/sample - loss: 0.0098 - acc: 0.9966\n",
      "Epoch 8/20\n",
      "60000/60000 [==============================] - 19s 312us/sample - loss: 0.0081 - acc: 0.9975\n",
      "Epoch 9/20\n",
      "59808/60000 [============================>.] - ETA: 0s - loss: 0.0061 - acc: 0.9981Reached 99.8% accuracy so cancelling training!\n",
      "60000/60000 [==============================] - 19s 312us/sample - loss: 0.0061 - acc: 0.9981\n"
     ]
    }
   ],
   "source": [
    "_, _ = train_mnist_conv()"
   ]
  },
  {
   "cell_type": "code",
   "execution_count": 1,
   "metadata": {},
   "outputs": [],
   "source": [
    "# save work and close the notebook"
   ]
  },
  {
   "cell_type": "code",
   "execution_count": null,
   "metadata": {},
   "outputs": [],
   "source": [
    "%%javascript\n",
    "<!-- Save the notebook -->\n",
    "IPython.notebook.save_checkpoint();"
   ]
  },
  {
   "cell_type": "code",
   "execution_count": null,
   "metadata": {},
   "outputs": [],
   "source": [
    "%%javascript\n",
    "IPython.notebook.session.delete();\n",
    "window.onbeforeunload = null\n",
    "setTimeout(function() { window.close(); }, 1000);"
   ]
  }
 ],
 "metadata": {
  "coursera": {
   "course_slug": "introduction-tensorflow",
   "graded_item_id": "ml06H",
   "launcher_item_id": "hQF8A"
  },
  "kernelspec": {
   "display_name": "Python 3",
   "language": "python",
   "name": "python3"
  },
  "language_info": {
   "codemirror_mode": {
    "name": "ipython",
    "version": 3
   },
   "file_extension": ".py",
   "mimetype": "text/x-python",
   "name": "python",
   "nbconvert_exporter": "python",
   "pygments_lexer": "ipython3",
   "version": "3.7.3"
  }
 },
 "nbformat": 4,
 "nbformat_minor": 1
}
